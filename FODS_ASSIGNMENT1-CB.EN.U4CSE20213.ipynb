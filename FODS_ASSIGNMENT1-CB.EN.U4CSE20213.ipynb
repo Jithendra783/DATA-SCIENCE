{
  "nbformat": 4,
  "nbformat_minor": 0,
  "metadata": {
    "colab": {
      "provenance": [],
      "collapsed_sections": []
    },
    "kernelspec": {
      "name": "python3",
      "display_name": "Python 3"
    },
    "language_info": {
      "name": "python"
    }
  },
  "cells": [
    {
      "cell_type": "code",
      "execution_count": 2,
      "metadata": {
        "id": "FqRKzhBHqPnS"
      },
      "outputs": [],
      "source": [
        " my_tuple=('aman','222',700,44.4)"
      ]
    },
    {
      "cell_type": "code",
      "source": [
        "my_dict={\"roll no:cb.en.u4cse20213\",\"Name: Jithendra\",\"DOB 23 april 2003\"}\n",
        "print(my_dict)"
      ],
      "metadata": {
        "colab": {
          "base_uri": "https://localhost:8080/"
        },
        "id": "E503n-tWKqa3",
        "outputId": "ba64826a-4255-4f65-e39d-6f8b8a8c22e7"
      },
      "execution_count": 3,
      "outputs": [
        {
          "output_type": "stream",
          "name": "stdout",
          "text": [
            "{'Name: Jithendra', 'DOB 23 april 2003', 'roll no:cb.en.u4cse20213'}\n"
          ]
        }
      ]
    },
    {
      "cell_type": "code",
      "source": [
        "from google.colab import drive"
      ],
      "metadata": {
        "id": "Yw_tKYwCLO8G"
      },
      "execution_count": 4,
      "outputs": []
    },
    {
      "cell_type": "code",
      "source": [
        "import numpy as np\n",
        "from numpy import random\n",
        "np.random.seed(5)\n",
        "x=random.randint(10,size=(3,2))\n",
        "print(x)"
      ],
      "metadata": {
        "colab": {
          "base_uri": "https://localhost:8080/"
        },
        "id": "bzLA2-MEMfyM",
        "outputId": "5dca4df6-76c3-4399-ea3a-ce1733bc9727"
      },
      "execution_count": 5,
      "outputs": [
        {
          "output_type": "stream",
          "name": "stdout",
          "text": [
            "[[3 6]\n",
            " [6 0]\n",
            " [9 8]]\n"
          ]
        }
      ]
    },
    {
      "cell_type": "code",
      "source": [
        "y = random.rand()\n",
        "print(y)\n",
        "abs(-1234)"
      ],
      "metadata": {
        "colab": {
          "base_uri": "https://localhost:8080/"
        },
        "id": "0ku14c22M4wJ",
        "outputId": "9fe038fc-672c-48a3-a89c-ee8131c09cf3"
      },
      "execution_count": 6,
      "outputs": [
        {
          "output_type": "stream",
          "name": "stdout",
          "text": [
            "0.08982103773760686\n"
          ]
        },
        {
          "output_type": "execute_result",
          "data": {
            "text/plain": [
              "1234"
            ]
          },
          "metadata": {},
          "execution_count": 6
        }
      ]
    },
    {
      "cell_type": "code",
      "source": [
        "z = random.randint(20,90)\n",
        "print(z)"
      ],
      "metadata": {
        "colab": {
          "base_uri": "https://localhost:8080/"
        },
        "id": "njC1GxAtNSyB",
        "outputId": "c88a3298-8a89-4997-9216-e5c36ac03c44"
      },
      "execution_count": 7,
      "outputs": [
        {
          "output_type": "stream",
          "name": "stdout",
          "text": [
            "82\n"
          ]
        }
      ]
    },
    {
      "cell_type": "code",
      "source": [
        "pop = [11,12,13,14,15]\n",
        "np.random.shuffle(pop)\n",
        "print(pop)\n",
        "print(pop[random.randint(0,5)])\n",
        "temp=[pop.pop(random.randint(0,5)),pop.pop(random.randint(0,4)),pop.pop(random.randint(0,3))]\n",
        "print(temp)"
      ],
      "metadata": {
        "colab": {
          "base_uri": "https://localhost:8080/"
        },
        "id": "aODvsijcNWRR",
        "outputId": "137badf9-5d1e-43ca-f097-0f945fe0400a"
      },
      "execution_count": 8,
      "outputs": [
        {
          "output_type": "stream",
          "name": "stdout",
          "text": [
            "[12, 15, 13, 11, 14]\n",
            "14\n",
            "[15, 13, 12]\n"
          ]
        }
      ]
    },
    {
      "cell_type": "code",
      "source": [
        "f = open('test.txt','w')\n",
        "f.write('The King is Dead, Long Live The King')\n",
        "f.close()\n",
        "f = open('test.txt','r')\n",
        "for i in f:\n",
        "  print(i,end=\" \")\n",
        "f.close()"
      ],
      "metadata": {
        "colab": {
          "base_uri": "https://localhost:8080/"
        },
        "id": "gAsZd9k-NYrc",
        "outputId": "4ade7211-6c14-46a9-e64b-0dabaabc0d67"
      },
      "execution_count": 9,
      "outputs": [
        {
          "output_type": "stream",
          "name": "stdout",
          "text": [
            "The King is Dead, Long Live The King "
          ]
        }
      ]
    },
    {
      "cell_type": "code",
      "source": [
        "test = 'The King is Dead, Long Live The King'\n",
        "array = test.split()\n",
        "print(test)\n",
        "print(test[2:5])\n",
        "print(test[2:])"
      ],
      "metadata": {
        "colab": {
          "base_uri": "https://localhost:8080/"
        },
        "id": "yP1VvuPFNbTr",
        "outputId": "c075bafa-6c27-405b-cf92-847ebb4b7c9c"
      },
      "execution_count": 10,
      "outputs": [
        {
          "output_type": "stream",
          "name": "stdout",
          "text": [
            "The King is Dead, Long Live The King\n",
            "e K\n",
            "e King is Dead, Long Live The King\n"
          ]
        }
      ]
    },
    {
      "cell_type": "code",
      "source": [
        "arr = np.array([[1,2,3],[4,5,6]])\n",
        "print(arr)"
      ],
      "metadata": {
        "colab": {
          "base_uri": "https://localhost:8080/"
        },
        "id": "FennZts6Nhgy",
        "outputId": "cc20e8cd-ff67-4d4c-cff3-097848d73a6a"
      },
      "execution_count": 11,
      "outputs": [
        {
          "output_type": "stream",
          "name": "stdout",
          "text": [
            "[[1 2 3]\n",
            " [4 5 6]]\n"
          ]
        }
      ]
    },
    {
      "cell_type": "code",
      "source": [
        "print(arr[1])\n",
        "print(len(arr))"
      ],
      "metadata": {
        "colab": {
          "base_uri": "https://localhost:8080/"
        },
        "id": "M2n1cfVpNkmG",
        "outputId": "a987cacc-bf68-46d8-ba88-742aa57a21aa"
      },
      "execution_count": 12,
      "outputs": [
        {
          "output_type": "stream",
          "name": "stdout",
          "text": [
            "[4 5 6]\n",
            "2\n"
          ]
        }
      ]
    },
    {
      "cell_type": "code",
      "source": [
        "arr = random.randint(20,size=(10))\n",
        "print(arr)\n",
        "x = arr.reshape(2,5)\n",
        "print(x)"
      ],
      "metadata": {
        "colab": {
          "base_uri": "https://localhost:8080/"
        },
        "id": "rfZPJP9MNnGJ",
        "outputId": "315114d7-4a66-4b13-fbaf-5a5779551ecb"
      },
      "execution_count": 13,
      "outputs": [
        {
          "output_type": "stream",
          "name": "stdout",
          "text": [
            "[12 13 11  1 15 18  9 10  9  9]\n",
            "[[12 13 11  1 15]\n",
            " [18  9 10  9  9]]\n"
          ]
        }
      ]
    },
    {
      "cell_type": "code",
      "source": [
        "import numpy as np\n",
        "arr=np.array([[1,2,3],[4,5,6]])\n",
        "print(arr)"
      ],
      "metadata": {
        "colab": {
          "base_uri": "https://localhost:8080/"
        },
        "id": "DLUa6_-PNs6Y",
        "outputId": "f74978cf-2bfe-42b2-ee5c-a4395cd560f0"
      },
      "execution_count": 14,
      "outputs": [
        {
          "output_type": "stream",
          "name": "stdout",
          "text": [
            "[[1 2 3]\n",
            " [4 5 6]]\n"
          ]
        }
      ]
    },
    {
      "cell_type": "code",
      "source": [
        "print(arr[1])\n",
        "print(arr[0][1],arr[1][1])\n",
        "print(len(arr))"
      ],
      "metadata": {
        "colab": {
          "base_uri": "https://localhost:8080/"
        },
        "id": "srDBgNpwBgUs",
        "outputId": "ba98ac61-a0c8-4daa-e603-523d412c8e01"
      },
      "execution_count": 15,
      "outputs": [
        {
          "output_type": "stream",
          "name": "stdout",
          "text": [
            "[4 5 6]\n",
            "2 5\n",
            "2\n"
          ]
        }
      ]
    },
    {
      "cell_type": "code",
      "source": [
        "ar=np.array([1,2,3,4,5,6,7,8,9,0])\n",
        "print(ar)\n",
        "ar=ar.reshape(2,5)\n",
        "print(ar)"
      ],
      "metadata": {
        "colab": {
          "base_uri": "https://localhost:8080/"
        },
        "id": "ZZ3J8SgpBits",
        "outputId": "d63bfdab-a414-4b3e-c725-ca0bc4cbbadf"
      },
      "execution_count": 16,
      "outputs": [
        {
          "output_type": "stream",
          "name": "stdout",
          "text": [
            "[1 2 3 4 5 6 7 8 9 0]\n",
            "[[1 2 3 4 5]\n",
            " [6 7 8 9 0]]\n"
          ]
        }
      ]
    },
    {
      "cell_type": "code",
      "source": [
        "a15=[1,2,3]\n",
        "a15=np.full((3),9)\n",
        "print(a15)"
      ],
      "metadata": {
        "colab": {
          "base_uri": "https://localhost:8080/"
        },
        "id": "tvEYOUw_Bllq",
        "outputId": "a057f51e-3f60-47ae-f0df-e4c4eb147001"
      },
      "execution_count": 17,
      "outputs": [
        {
          "output_type": "stream",
          "name": "stdout",
          "text": [
            "[9 9 9]\n"
          ]
        }
      ]
    },
    {
      "cell_type": "code",
      "source": [
        "a16=[2,4,5]\n",
        "print(sum(a16))"
      ],
      "metadata": {
        "colab": {
          "base_uri": "https://localhost:8080/"
        },
        "id": "kO26DNV9BovM",
        "outputId": "d633f112-3a41-48b4-9e9f-b367c4f2a6f1"
      },
      "execution_count": 18,
      "outputs": [
        {
          "output_type": "stream",
          "name": "stdout",
          "text": [
            "11\n"
          ]
        }
      ]
    },
    {
      "cell_type": "code",
      "source": [
        "a17=[77,74,75]\n",
        "prod=1\n",
        "for i in a17:\n",
        "  prod*=i\n",
        "print(prod)"
      ],
      "metadata": {
        "colab": {
          "base_uri": "https://localhost:8080/"
        },
        "id": "520L3t_0Bq5w",
        "outputId": "fe445b0d-317f-42cf-ea14-abf4a90f59d5"
      },
      "execution_count": 19,
      "outputs": [
        {
          "output_type": "stream",
          "name": "stdout",
          "text": [
            "427350\n"
          ]
        }
      ]
    },
    {
      "cell_type": "code",
      "source": [
        "from scipy import stats\n",
        "a18=np.array([2,1,9,1,2,22,1,1,4,55,6,2,56])\n",
        "print(\"Mean=\",np.mean(a18))\n",
        "print(\"Median=\",np.median(a18))\n",
        "print(\"Mode=\",stats.mode(a18))\n",
        "print(\"Max=\",max(a18))\n",
        "print(\"Min=\",min(a18))"
      ],
      "metadata": {
        "colab": {
          "base_uri": "https://localhost:8080/"
        },
        "id": "D-WjoFwBBtOP",
        "outputId": "ca02ca30-44cb-4cf3-97a3-08c5a35e93b9"
      },
      "execution_count": 20,
      "outputs": [
        {
          "output_type": "stream",
          "name": "stdout",
          "text": [
            "Mean= 12.461538461538462\n",
            "Median= 2.0\n",
            "Mode= ModeResult(mode=array([1]), count=array([4]))\n",
            "Max= 56\n",
            "Min= 1\n"
          ]
        }
      ]
    },
    {
      "cell_type": "code",
      "source": [
        "a19=[1, 1, 4, 5, 5, 5, 7]\n",
        "a19=list(set(a19))\n",
        "a19.sort()\n",
        "print(a19)"
      ],
      "metadata": {
        "colab": {
          "base_uri": "https://localhost:8080/"
        },
        "id": "sNlAT1iCBxUm",
        "outputId": "a02460af-472f-4edc-9512-d0a1c2c1de8c"
      },
      "execution_count": 21,
      "outputs": [
        {
          "output_type": "stream",
          "name": "stdout",
          "text": [
            "[1, 4, 5, 7]\n"
          ]
        }
      ]
    },
    {
      "cell_type": "code",
      "source": [
        "a20=[1,2,3]\n",
        "b20=[0,1,1]\n",
        "print(np.dot(a20,b20))"
      ],
      "metadata": {
        "colab": {
          "base_uri": "https://localhost:8080/"
        },
        "id": "GU6XHr2bBzee",
        "outputId": "3fa7029a-44e7-47e1-ddc5-01370520bd36"
      },
      "execution_count": 22,
      "outputs": [
        {
          "output_type": "stream",
          "name": "stdout",
          "text": [
            "5\n"
          ]
        }
      ]
    },
    {
      "cell_type": "code",
      "source": [
        "a21=[[2,-12],[1,-5]]\n",
        "x,y=np.linalg.eig(a21)\n",
        "print(x,y)"
      ],
      "metadata": {
        "colab": {
          "base_uri": "https://localhost:8080/"
        },
        "id": "fEnRk-MuB1sP",
        "outputId": "db5df055-3a51-4699-c025-f386e9649fba"
      },
      "execution_count": 23,
      "outputs": [
        {
          "output_type": "stream",
          "name": "stdout",
          "text": [
            "[-1. -2.] [[0.9701425  0.9486833 ]\n",
            " [0.24253563 0.31622777]]\n"
          ]
        }
      ]
    },
    {
      "cell_type": "code",
      "source": [
        "a22=[[11, 22, 11, 31], [25, 33, 31, 28]]\n",
        "print(np.corrcoef(a22))"
      ],
      "metadata": {
        "colab": {
          "base_uri": "https://localhost:8080/"
        },
        "id": "00DO9hYaB4J4",
        "outputId": "52cde95b-08d6-4cbb-fd71-8cfd99c49ded"
      },
      "execution_count": 24,
      "outputs": [
        {
          "output_type": "stream",
          "name": "stdout",
          "text": [
            "[[1.         0.15997968]\n",
            " [0.15997968 1.        ]]\n"
          ]
        }
      ]
    },
    {
      "cell_type": "code",
      "source": [],
      "metadata": {
        "id": "XokXDxppB6IC"
      },
      "execution_count": 24,
      "outputs": []
    }
  ]
}