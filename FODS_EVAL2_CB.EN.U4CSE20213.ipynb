{
  "cells": [
    {
      "cell_type": "code",
      "execution_count": 2,
      "id": "0317fc52",
      "metadata": {
        "id": "0317fc52"
      },
      "outputs": [],
      "source": [
        "import pandas as pd\n",
        "import matplotlib.pyplot as plt\n",
        "%matplotlib inline\n",
        "import numpy as np\n",
        "import scipy.stats as st\n",
        "import matplotlib.pyplot as plt\n"
      ]
    },
    {
      "cell_type": "code",
      "execution_count": 3,
      "id": "f96c1c2f",
      "metadata": {
        "colab": {
          "base_uri": "https://localhost:8080/"
        },
        "id": "f96c1c2f",
        "outputId": "13585138-309e-42f0-ead8-7f9ab24be662"
      },
      "outputs": [
        {
          "output_type": "execute_result",
          "data": {
            "text/plain": [
              "{'purple': 718, 'white': 211}"
            ]
          },
          "metadata": {},
          "execution_count": 3
        }
      ],
      "source": [
        "flowers={'purple':718,'white':211}\n",
        "'''flowers_df=pd.DataFrame(flowers)\n",
        "flowers_df'''\n",
        "\n",
        "flowers"
      ]
    },
    {
      "cell_type": "code",
      "execution_count": 4,
      "id": "1ab67e6e",
      "metadata": {
        "colab": {
          "base_uri": "https://localhost:8080/",
          "height": 36
        },
        "id": "1ab67e6e",
        "outputId": "3ff1d757-fcb2-43cc-b20c-c8d591523d20"
      },
      "outputs": [
        {
          "output_type": "execute_result",
          "data": {
            "text/plain": [
              "'\\nqn1\\nh0(NUll Hypothesis): purple flowers and white flowers are in ratio 3:1\\nh1(Alternate Hypothesis): purple flowers and white flowers are not in ratio 3:1\\n\\n'"
            ],
            "application/vnd.google.colaboratory.intrinsic+json": {
              "type": "string"
            }
          },
          "metadata": {},
          "execution_count": 4
        }
      ],
      "source": [
        "#1st qn\n",
        "'''\n",
        "qn1\n",
        "h0(NUll Hypothesis): purple flowers and white flowers are in ratio 3:1\n",
        "h1(Alternate Hypothesis): purple flowers and white flowers are not in ratio 3:1\n",
        "\n",
        "'''"
      ]
    },
    {
      "cell_type": "code",
      "execution_count": 12,
      "id": "a60cc31c",
      "metadata": {
        "colab": {
          "base_uri": "https://localhost:8080/"
        },
        "id": "a60cc31c",
        "outputId": "55ef4935-e3ae-4bd6-ed7f-c9be6e9fe5eb"
      },
      "outputs": [
        {
          "output_type": "execute_result",
          "data": {
            "text/plain": [
              "0.02287405812701826"
            ]
          },
          "metadata": {},
          "execution_count": 12
        }
      ],
      "source": [
        "#2nd qn\n",
        "\n",
        "'''\n",
        "The observerd statestic can be the diffrence between the percentage of purple flowers that is given in the data and 75%\n",
        "\n",
        "'''\n",
        "\n",
        "#3rd qn\n",
        "purple_f=718\n",
        "observed_p=(718/929) #percentage of purple flowers\n",
        "\n",
        "observed_statistic=np.abs(observed_p-0.75)\n",
        "observed_statistic"
      ]
    },
    {
      "cell_type": "code",
      "execution_count": 9,
      "id": "9d0d6654",
      "metadata": {
        "colab": {
          "base_uri": "https://localhost:8080/"
        },
        "id": "9d0d6654",
        "outputId": "62a14248-39aa-4d71-a3c1-0f5bfcbb60c9"
      },
      "outputs": [
        {
          "output_type": "execute_result",
          "data": {
            "text/plain": [
              "array([705, 710, 708, ..., 701, 716, 707])"
            ]
          },
          "metadata": {},
          "execution_count": 9
        }
      ],
      "source": [
        "#4th qn\n",
        "\n",
        "import numpy.random as npr\n",
        "\n",
        "repetitions = 1787\n",
        "\n",
        "for i in range(repetitions):\n",
        "    simulation = npr.binomial(929, 0.75, repetitions)\n",
        "    \n",
        "simulation"
      ]
    },
    {
      "cell_type": "code",
      "execution_count": 10,
      "id": "b1cdbd28",
      "metadata": {
        "colab": {
          "base_uri": "https://localhost:8080/",
          "height": 237
        },
        "id": "b1cdbd28",
        "outputId": "ea9ae5fa-057c-4a2d-ad9f-3c52e6b2008e"
      },
      "outputs": [
        {
          "output_type": "execute_result",
          "data": {
            "text/plain": [
              "       sampled_stats  Distance from 0.75\n",
              "Count                                   \n",
              "705         0.758881            0.008881\n",
              "710         0.764263            0.014263\n",
              "708         0.762110            0.012110\n",
              "691         0.743811            0.006189\n",
              "692         0.744887            0.005113"
            ],
            "text/html": [
              "\n",
              "  <div id=\"df-87fdb9c7-72c7-4092-9a97-0fe009be75d9\">\n",
              "    <div class=\"colab-df-container\">\n",
              "      <div>\n",
              "<style scoped>\n",
              "    .dataframe tbody tr th:only-of-type {\n",
              "        vertical-align: middle;\n",
              "    }\n",
              "\n",
              "    .dataframe tbody tr th {\n",
              "        vertical-align: top;\n",
              "    }\n",
              "\n",
              "    .dataframe thead th {\n",
              "        text-align: right;\n",
              "    }\n",
              "</style>\n",
              "<table border=\"1\" class=\"dataframe\">\n",
              "  <thead>\n",
              "    <tr style=\"text-align: right;\">\n",
              "      <th></th>\n",
              "      <th>sampled_stats</th>\n",
              "      <th>Distance from 0.75</th>\n",
              "    </tr>\n",
              "    <tr>\n",
              "      <th>Count</th>\n",
              "      <th></th>\n",
              "      <th></th>\n",
              "    </tr>\n",
              "  </thead>\n",
              "  <tbody>\n",
              "    <tr>\n",
              "      <th>705</th>\n",
              "      <td>0.758881</td>\n",
              "      <td>0.008881</td>\n",
              "    </tr>\n",
              "    <tr>\n",
              "      <th>710</th>\n",
              "      <td>0.764263</td>\n",
              "      <td>0.014263</td>\n",
              "    </tr>\n",
              "    <tr>\n",
              "      <th>708</th>\n",
              "      <td>0.762110</td>\n",
              "      <td>0.012110</td>\n",
              "    </tr>\n",
              "    <tr>\n",
              "      <th>691</th>\n",
              "      <td>0.743811</td>\n",
              "      <td>0.006189</td>\n",
              "    </tr>\n",
              "    <tr>\n",
              "      <th>692</th>\n",
              "      <td>0.744887</td>\n",
              "      <td>0.005113</td>\n",
              "    </tr>\n",
              "  </tbody>\n",
              "</table>\n",
              "</div>\n",
              "      <button class=\"colab-df-convert\" onclick=\"convertToInteractive('df-87fdb9c7-72c7-4092-9a97-0fe009be75d9')\"\n",
              "              title=\"Convert this dataframe to an interactive table.\"\n",
              "              style=\"display:none;\">\n",
              "        \n",
              "  <svg xmlns=\"http://www.w3.org/2000/svg\" height=\"24px\"viewBox=\"0 0 24 24\"\n",
              "       width=\"24px\">\n",
              "    <path d=\"M0 0h24v24H0V0z\" fill=\"none\"/>\n",
              "    <path d=\"M18.56 5.44l.94 2.06.94-2.06 2.06-.94-2.06-.94-.94-2.06-.94 2.06-2.06.94zm-11 1L8.5 8.5l.94-2.06 2.06-.94-2.06-.94L8.5 2.5l-.94 2.06-2.06.94zm10 10l.94 2.06.94-2.06 2.06-.94-2.06-.94-.94-2.06-.94 2.06-2.06.94z\"/><path d=\"M17.41 7.96l-1.37-1.37c-.4-.4-.92-.59-1.43-.59-.52 0-1.04.2-1.43.59L10.3 9.45l-7.72 7.72c-.78.78-.78 2.05 0 2.83L4 21.41c.39.39.9.59 1.41.59.51 0 1.02-.2 1.41-.59l7.78-7.78 2.81-2.81c.8-.78.8-2.07 0-2.86zM5.41 20L4 18.59l7.72-7.72 1.47 1.35L5.41 20z\"/>\n",
              "  </svg>\n",
              "      </button>\n",
              "      \n",
              "  <style>\n",
              "    .colab-df-container {\n",
              "      display:flex;\n",
              "      flex-wrap:wrap;\n",
              "      gap: 12px;\n",
              "    }\n",
              "\n",
              "    .colab-df-convert {\n",
              "      background-color: #E8F0FE;\n",
              "      border: none;\n",
              "      border-radius: 50%;\n",
              "      cursor: pointer;\n",
              "      display: none;\n",
              "      fill: #1967D2;\n",
              "      height: 32px;\n",
              "      padding: 0 0 0 0;\n",
              "      width: 32px;\n",
              "    }\n",
              "\n",
              "    .colab-df-convert:hover {\n",
              "      background-color: #E2EBFA;\n",
              "      box-shadow: 0px 1px 2px rgba(60, 64, 67, 0.3), 0px 1px 3px 1px rgba(60, 64, 67, 0.15);\n",
              "      fill: #174EA6;\n",
              "    }\n",
              "\n",
              "    [theme=dark] .colab-df-convert {\n",
              "      background-color: #3B4455;\n",
              "      fill: #D2E3FC;\n",
              "    }\n",
              "\n",
              "    [theme=dark] .colab-df-convert:hover {\n",
              "      background-color: #434B5C;\n",
              "      box-shadow: 0px 1px 3px 1px rgba(0, 0, 0, 0.15);\n",
              "      filter: drop-shadow(0px 1px 2px rgba(0, 0, 0, 0.3));\n",
              "      fill: #FFFFFF;\n",
              "    }\n",
              "  </style>\n",
              "\n",
              "      <script>\n",
              "        const buttonEl =\n",
              "          document.querySelector('#df-87fdb9c7-72c7-4092-9a97-0fe009be75d9 button.colab-df-convert');\n",
              "        buttonEl.style.display =\n",
              "          google.colab.kernel.accessAllowed ? 'block' : 'none';\n",
              "\n",
              "        async function convertToInteractive(key) {\n",
              "          const element = document.querySelector('#df-87fdb9c7-72c7-4092-9a97-0fe009be75d9');\n",
              "          const dataTable =\n",
              "            await google.colab.kernel.invokeFunction('convertToInteractive',\n",
              "                                                     [key], {});\n",
              "          if (!dataTable) return;\n",
              "\n",
              "          const docLinkHtml = 'Like what you see? Visit the ' +\n",
              "            '<a target=\"_blank\" href=https://colab.research.google.com/notebooks/data_table.ipynb>data table notebook</a>'\n",
              "            + ' to learn more about interactive tables.';\n",
              "          element.innerHTML = '';\n",
              "          dataTable['output_type'] = 'display_data';\n",
              "          await google.colab.output.renderOutput(dataTable, element);\n",
              "          const docLink = document.createElement('div');\n",
              "          docLink.innerHTML = docLinkHtml;\n",
              "          element.appendChild(docLink);\n",
              "        }\n",
              "      </script>\n",
              "    </div>\n",
              "  </div>\n",
              "  "
            ]
          },
          "metadata": {},
          "execution_count": 10
        }
      ],
      "source": [
        "#simulation in 4th qn\n",
        "df = pd.DataFrame(simulation, columns =['Count'])\n",
        "\n",
        "df['sampled_stats']= (df['Count'] / 929)\n",
        "df = df.set_index('Count')\n",
        "df['Distance from 0.75'] = abs(df['sampled_stats'] - 0.75)\n",
        "\n",
        "df.head()#"
      ]
    },
    {
      "cell_type": "code",
      "execution_count": 19,
      "id": "a8bfebcb",
      "metadata": {
        "colab": {
          "base_uri": "https://localhost:8080/",
          "height": 295
        },
        "id": "a8bfebcb",
        "outputId": "ada1f5a0-97ec-4a46-ba8d-1a06bdd0f879"
      },
      "outputs": [
        {
          "output_type": "display_data",
          "data": {
            "text/plain": [
              "<Figure size 432x288 with 1 Axes>"
            ],
            "image/png": "[encoded data removed]"
          },
          "metadata": {
            "needs_background": "light"
          }
        }
      ],
      "source": [
        "#5th qn\n",
        "plt.figure()\n",
        "plt.hist(df['Distance from 0.75'])\n",
        "plt.scatter(observed_statistic,0,color='r',s=100)\n",
        "plt.title('Empirical distribution')\n",
        "plt.xlabel('Distance from 0.75')\n",
        "plt.ylabel('Percent Per Unit')\n",
        "plt.grid()\n",
        "plt.show()"
      ]
    },
    {
      "cell_type": "code",
      "execution_count": 20,
      "id": "deceb154",
      "metadata": {
        "colab": {
          "base_uri": "https://localhost:8080/",
          "height": 36
        },
        "id": "deceb154",
        "outputId": "320e5767-a560-4864-d6a4-ce11e5309df9"
      },
      "outputs": [
        {
          "output_type": "execute_result",
          "data": {
            "text/plain": [
              "'\\nSince the given value is far away from the random distributions we dont have enough evidence to reject the null hypothesis\\nFail to reject null hypothesis\\n\\n'"
            ],
            "application/vnd.google.colaboratory.intrinsic+json": {
              "type": "string"
            }
          },
          "metadata": {},
          "execution_count": 20
        }
      ],
      "source": [
        "#6th qn\n",
        "'''\n",
        "Since the given value is far away from the random distributions we dont have enough evidence to reject the null hypothesis\n",
        "Fail to reject null hypothesis\n",
        "\n",
        "'''"
      ]
    },
    {
      "cell_type": "code",
      "execution_count": null,
      "id": "38f7e061",
      "metadata": {
        "id": "38f7e061"
      },
      "outputs": [],
      "source": [
        "#part B \n",
        "# H0: mu=60\n",
        "# H1: mu!=60\n",
        "# two tailed z test"
      ]
    },
    {
      "cell_type": "code",
      "execution_count": null,
      "id": "7633f83d",
      "metadata": {
        "id": "7633f83d"
      },
      "outputs": [],
      "source": [
        "xbar=65.10\n",
        "sd=13.46\n",
        "alpha=0.05\n",
        "n=30\n",
        "mu=60"
      ]
    },
    {
      "cell_type": "code",
      "execution_count": null,
      "id": "b79c9a1f",
      "metadata": {
        "id": "b79c9a1f",
        "outputId": "60f484a0-57ce-4ce8-fcbc-8297f262c2ee"
      },
      "outputs": [
        {
          "data": {
            "text/plain": [
              "2.075323211943792"
            ]
          },
          "execution_count": 16,
          "metadata": {},
          "output_type": "execute_result"
        }
      ],
      "source": [
        "z=(xbar-mu)/(sd/np.sqrt(n))\n",
        "z"
      ]
    },
    {
      "cell_type": "code",
      "execution_count": null,
      "id": "167a2e7b",
      "metadata": {
        "id": "167a2e7b",
        "outputId": "2e076f85-62b1-4289-8094-e36e783c403e"
      },
      "outputs": [
        {
          "data": {
            "text/plain": [
              "0.03795658956990633"
            ]
          },
          "execution_count": 19,
          "metadata": {},
          "output_type": "execute_result"
        }
      ],
      "source": [
        "p_val = (1 - st.norm.cdf(abs(z))) * 2\n",
        "p_val"
      ]
    },
    {
      "cell_type": "code",
      "execution_count": null,
      "id": "7aa87e30",
      "metadata": {
        "id": "7aa87e30",
        "outputId": "d04de33c-5d51-4694-b52c-3d7a0ad2b33a"
      },
      "outputs": [
        {
          "name": "stdout",
          "output_type": "stream",
          "text": [
            "Reject null hypothesis\n"
          ]
        }
      ],
      "source": [
        "if p_val > alpha :\n",
        "    print(\"Null hypothesis cannot be rejected\")\n",
        "else:\n",
        "    print(\"Reject null hypothesis\")\n",
        "    "
      ]
    },
    {
      "cell_type": "code",
      "execution_count": null,
      "id": "8c4f7ba8",
      "metadata": {
        "id": "8c4f7ba8"
      },
      "outputs": [],
      "source": []
    }
  ],
  "metadata": {
    "kernelspec": {
      "display_name": "Python 3 (ipykernel)",
      "language": "python",
      "name": "python3"
    },
    "language_info": {
      "codemirror_mode": {
        "name": "ipython",
        "version": 3
      },
      "file_extension": ".py",
      "mimetype": "text/x-python",
      "name": "python",
      "nbconvert_exporter": "python",
      "pygments_lexer": "ipython3",
      "version": "3.9.12"
    },
    "colab": {
      "provenance": []
    }
  },
  "nbformat": 4,
  "nbformat_minor": 5
}